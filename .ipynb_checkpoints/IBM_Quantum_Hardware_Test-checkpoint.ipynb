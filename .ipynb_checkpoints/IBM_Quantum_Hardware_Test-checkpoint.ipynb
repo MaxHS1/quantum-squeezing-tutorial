{
 "cells": [
  {
   "cell_type": "code",
   "execution_count": 26,
   "id": "1c689188-9eb0-40d3-af73-dac10995a424",
   "metadata": {},
   "outputs": [],
   "source": [
    "from qiskit import QuantumCircuit\n",
    "from qiskit_aer import AerSimulator\n",
    "from qiskit.circuit.library import RZZGate\n",
    "import numpy as np\n",
    "from qiskit import transpile\n",
    "import matplotlib.pyplot as plt\n",
    "from collections import Counter\n",
    "from qiskit_ibm_runtime.fake_provider import FakeManilaV2\n",
    "from qiskit_ibm_runtime import QiskitRuntimeService\n",
    "from qiskit_ibm_runtime import Sampler, Session"
   ]
  },
  {
   "cell_type": "code",
   "execution_count": 28,
   "id": "20274073-0f98-4f87-a0c8-98171bda77cf",
   "metadata": {},
   "outputs": [],
   "source": [
    "#Before\n",
    "thetas = np.linspace(0, 2*np.pi, 200)"
   ]
  },
  {
   "cell_type": "code",
   "execution_count": 29,
   "id": "d41a3069-6700-4aba-95a0-341c9d392f53",
   "metadata": {},
   "outputs": [],
   "source": [
    "def calculate_jz(counts):\n",
    "    expectation = 0\n",
    "    total_shots = sum(counts.values())\n",
    "    \n",
    "    for bitstring, count in counts.items():\n",
    "        n_zeros = bitstring.count('0')  \n",
    "        n_ones = bitstring.count('1')   \n",
    "        jz_value = (n_zeros - n_ones) / 2\n",
    "        prob = count / total_shots\n",
    "        expectation += prob * jz_value\n",
    "    \n",
    "    return expectation"
   ]
  },
  {
   "cell_type": "code",
   "execution_count": 30,
   "id": "2d3bdf21-18ba-44c1-bd3a-77005ce4894c",
   "metadata": {},
   "outputs": [],
   "source": [
    "def calculate_jy(counts):\n",
    "    expectation = 0\n",
    "    total_shots = sum(counts.values())\n",
    "    \n",
    "    for bitstring, count in counts.items():\n",
    "        n_zeros = bitstring.count('0')  \n",
    "        n_ones = bitstring.count('1')   \n",
    "        jy_value = (n_zeros - n_ones) / 2\n",
    "        prob = count / total_shots\n",
    "        expectation += prob * jy_value\n",
    "    \n",
    "    return expectation"
   ]
  },
  {
   "cell_type": "code",
   "execution_count": 65,
   "id": "54022e38-730f-4b18-9de9-483a2fc33a4f",
   "metadata": {
    "scrolled": true
   },
   "outputs": [
    {
     "name": "stderr",
     "output_type": "stream",
     "text": [
      "qiskit_runtime_service._resolve_cloud_instances:WARNING:2025-09-03 16:23:57,276: Default instance not set. Searching all available instances.\n"
     ]
    },
    {
     "ename": "AttributeError",
     "evalue": "'QiskitRuntimeService' object has no attribute 'get_backend'",
     "output_type": "error",
     "traceback": [
      "\u001b[0;31m---------------------------------------------------------------------------\u001b[0m",
      "\u001b[0;31mAttributeError\u001b[0m                            Traceback (most recent call last)",
      "Cell \u001b[0;32mIn[65], line 9\u001b[0m\n\u001b[1;32m      6\u001b[0m qc_zb\u001b[38;5;241m.\u001b[39mmeasure_all()\n\u001b[1;32m      8\u001b[0m service \u001b[38;5;241m=\u001b[39m QiskitRuntimeService()  \n\u001b[0;32m----> 9\u001b[0m backend \u001b[38;5;241m=\u001b[39m service\u001b[38;5;241m.\u001b[39mget_backend(\u001b[38;5;124m'\u001b[39m\u001b[38;5;124mibm_kingston\u001b[39m\u001b[38;5;124m'\u001b[39m)  \n\u001b[1;32m     10\u001b[0m job \u001b[38;5;241m=\u001b[39m Sampler(session\u001b[38;5;241m=\u001b[39mSession(backend\u001b[38;5;241m=\u001b[39mbackend), options\u001b[38;5;241m=\u001b[39m{\u001b[38;5;124m\"\u001b[39m\u001b[38;5;124mshots\u001b[39m\u001b[38;5;124m\"\u001b[39m: \u001b[38;5;241m1000\u001b[39m})\u001b[38;5;241m.\u001b[39mrun(qc_b)\n\u001b[1;32m     11\u001b[0m counts \u001b[38;5;241m=\u001b[39m {k: \u001b[38;5;28mint\u001b[39m(\u001b[38;5;28mround\u001b[39m(v\u001b[38;5;241m*\u001b[39m\u001b[38;5;241m1000\u001b[39m)) \u001b[38;5;28;01mfor\u001b[39;00m k, v \u001b[38;5;129;01min\u001b[39;00m job\u001b[38;5;241m.\u001b[39mresult()\u001b[38;5;241m.\u001b[39mquasi_dists[\u001b[38;5;241m0\u001b[39m]\u001b[38;5;241m.\u001b[39mbinary_probabilities()\u001b[38;5;241m.\u001b[39mitems()}\n",
      "\u001b[0;31mAttributeError\u001b[0m: 'QiskitRuntimeService' object has no attribute 'get_backend'"
     ]
    }
   ],
   "source": [
    "results_zb = []\n",
    "\n",
    "for theta in thetas:\n",
    "    qc_zb = QuantumCircuit(3,3)\n",
    "    qc_zb.h([0,1,2])\n",
    "    qc_zb.measure_all()\n",
    "\n",
    "    service = QiskitRuntimeService()  \n",
    "    backend = service.get_backend('ibm_kingston')  \n",
    "    job = Sampler(session=Session(backend=backend), options={\"shots\": 1000}).run(qc_b)\n",
    "    counts = {k: int(round(v*1000)) for k, v in job.result().quasi_dists[0].binary_probabilities().items()}\n",
    "    results_zb.append(calculate_jz(counts))"
   ]
  },
  {
   "cell_type": "code",
   "execution_count": null,
   "id": "1a9d632f-1361-4dfc-b7e4-03d5642c8789",
   "metadata": {},
   "outputs": [],
   "source": [
    "results_yb = []\n",
    "\n",
    "for theta in thetas:\n",
    "    qc_yb = QuantumCircuit(3,3)\n",
    "    qc_yb.h([0,1,2])\n",
    "    qc_yb.s([0,1,2])\n",
    "    qc_yb.h([0,1,2])\n",
    "    qc_yb.measure_all()\n",
    "\n",
    "    service = QiskitRuntimeService()  # You'll need your API token saved\n",
    "    backend = service.get_backend('ibm_kingston')  # example of IBM Backend names. \n",
    "    job = Sampler(session=Session(backend=backend), options={\"shots\": 1000}).run(qc_yb)\n",
    "    counts = {k: int(round(v*1000)) for k, v in job.result().quasi_dists[0].binary_probabilities().items()}\n",
    "    results_yb.append(calculate_jy(counts))"
   ]
  },
  {
   "cell_type": "code",
   "execution_count": null,
   "id": "5608ca58-4e3a-44a3-a2e9-2b277792aa22",
   "metadata": {},
   "outputs": [],
   "source": [
    "#After\n",
    "def apply_one_axis_twist(circuit, qubits, chi_t):\n",
    "    n = 3\n",
    "    for i in range(n):\n",
    "        for j in range(i + 1, n):\n",
    "            circuit.append(RZZGate(2 * chi_t), [qubits[i], qubits[j]])\n",
    "    return circuit"
   ]
  },
  {
   "cell_type": "code",
   "execution_count": null,
   "id": "e660eaee-636c-4ab9-b68e-27dde0256653",
   "metadata": {},
   "outputs": [],
   "source": [
    "chi_t = 0.4\n",
    "N = [0,1,2]"
   ]
  },
  {
   "cell_type": "code",
   "execution_count": null,
   "id": "e1cf6c8e-127f-4b93-88f2-9afc68068d2f",
   "metadata": {},
   "outputs": [],
   "source": [
    "results_za = []\n",
    "\n",
    "for theta in thetas:\n",
    "    qc_za = QuantumCircuit(3,3)\n",
    "    qc_za.h([0,1,2])\n",
    "    apply_one_axis_twist(qc_za, N, chi_t)\n",
    "    qc_za.measure_all()\n",
    "\n",
    "    service = QiskitRuntimeService()  # You'll need your API token saved\n",
    "    backend = service.get_backend('ibm_kingston')  # example of IBM Backend names. \n",
    "    job = Sampler(session=Session(backend=backend), options={\"shots\": 1000}).run(qc_za)\n",
    "    counts = {k: int(round(v*1000)) for k, v in job.result().quasi_dists[0].binary_probabilities().items()}\n",
    "    results_za.append(calculate_jz(counts))"
   ]
  },
  {
   "cell_type": "code",
   "execution_count": null,
   "id": "e13aebc1-d2fa-4898-a843-548486714a66",
   "metadata": {},
   "outputs": [],
   "source": [
    "results_ya = []\n",
    "\n",
    "for theta in thetas:\n",
    "    qc_ya = QuantumCircuit(3,3)\n",
    "    qc_ya.h([0,1,2])\n",
    "    apply_one_axis_twist(qc_ya, N, chi_t)\n",
    "    qc_ya.s([0,1,2])\n",
    "    qc_ya.h([0,1,2])\n",
    "    qc_ya.measure_all()\n",
    "\n",
    "    service = QiskitRuntimeService()  # You'll need your API token saved\n",
    "    backend = service.get_backend('ibm_kingston')  # example of IBM Backend names. \n",
    "    job = Sampler(session=Session(backend=backend), options={\"shots\": 1000}).run(qc_ya)\n",
    "    counts = {k: int(round(v*1000)) for k, v in job.result().quasi_dists[0].binary_probabilities().items()}\n",
    "    results_ya.append(calculate_jy(counts))"
   ]
  },
  {
   "cell_type": "code",
   "execution_count": null,
   "id": "4381a7cc-5f9c-42c9-aea2-14e5d8bdda75",
   "metadata": {},
   "outputs": [],
   "source": [
    "fig, axes = plt.subplots(1, 2, figsize=(10, 4.6), sharey=True)\n",
    "\n",
    "axes[0].scatter(results_zb, results_yb)\n",
    "axes[0].set_title(\"Before (no squeezing)\")\n",
    "\n",
    "axes[1].scatter(results_za, results_ya)\n",
    "axes[1].set_title(\"After (χt = 0.4)\")\n",
    "\n",
    "for ax in axes:\n",
    "    ax.set_xlabel(\"⟨Jz⟩\")\n",
    "    ax.set_ylabel(\"⟨Jy⟩\")\n",
    "    ax.margins(0.9)\n",
    "\n",
    "plt.show()"
   ]
  },
  {
   "cell_type": "code",
   "execution_count": null,
   "id": "c33ff496-5c32-47d6-8a1c-b44397aab754",
   "metadata": {},
   "outputs": [],
   "source": []
  }
 ],
 "metadata": {
  "kernelspec": {
   "display_name": "Python 3 (ipykernel)",
   "language": "python",
   "name": "python3"
  },
  "language_info": {
   "codemirror_mode": {
    "name": "ipython",
    "version": 3
   },
   "file_extension": ".py",
   "mimetype": "text/x-python",
   "name": "python",
   "nbconvert_exporter": "python",
   "pygments_lexer": "ipython3",
   "version": "3.12.4"
  }
 },
 "nbformat": 4,
 "nbformat_minor": 5
}
