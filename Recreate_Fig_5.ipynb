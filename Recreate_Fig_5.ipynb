{
 "cells": [
  {
   "cell_type": "code",
   "execution_count": 66,
   "id": "f3b3f62d-bf31-4d06-9ddc-9e93e4a096a0",
   "metadata": {},
   "outputs": [],
   "source": [
    "from qiskit import QuantumCircuit\n",
    "from qiskit_aer import AerSimulator\n",
    "from qiskit.circuit.library import RZZGate\n",
    "import numpy as np\n",
    "import pandas as pd\n",
    "from qiskit import transpile\n",
    "import matplotlib.pyplot as plt"
   ]
  },
  {
   "cell_type": "code",
   "execution_count": 68,
   "id": "28395a4f-e6cf-4a22-bf63-a32402df526b",
   "metadata": {},
   "outputs": [],
   "source": [
    "def apply_dipole_interaction(circuit, qubits, chi_t):\n",
    "    n = len(qubits)\n",
    "    for i in range(n):\n",
    "        for j in range(i + 1, n):\n",
    "            qi, qj = qubits[i], qubits[j]\n",
    "\n",
    "            # ZZ term\n",
    "            circuit.append(RZZGate(2 * chi_t), [qi, qj])\n",
    "\n",
    "            # XX term \n",
    "            theta_x = -chi_t\n",
    "            circuit.h(qi); circuit.h(qj)\n",
    "            circuit.cx(qi, qj)\n",
    "            circuit.rz(theta_x, qj)\n",
    "            circuit.cx(qi, qj)\n",
    "            circuit.h(qi); circuit.h(qj)\n",
    "\n",
    "            # YY term\n",
    "            theta_y = -chi_t\n",
    "            circuit.rx(np.pi/2, qi); circuit.rx(np.pi/2, qj)\n",
    "            circuit.cx(qi, qj)\n",
    "            circuit.rz(theta_y, qj)\n",
    "            circuit.cx(qi, qj)\n",
    "            circuit.rx(-np.pi/2, qi); circuit.rx(-np.pi/2, qj)\n",
    "            \n",
    "    return circuit"
   ]
  },
  {
   "cell_type": "code",
   "execution_count": 70,
   "id": "435735e5-d4a9-45be-935f-e4b85bc160ce",
   "metadata": {},
   "outputs": [],
   "source": [
    "def calculate_jz_and_delta_jz(counts, n_qubits=3):\n",
    "    expectation = 0\n",
    "    expectation_sq = 0\n",
    "    total_shots = sum(counts.values())\n",
    "    \n",
    "    for bitstring, count in counts.items():\n",
    "        n_zeros = bitstring.count('0')  \n",
    "        n_ones = bitstring.count('1')   \n",
    "        jz_value = (n_zeros - n_ones) / 2\n",
    "        prob = count / total_shots\n",
    "        expectation += prob * jz_value\n",
    "        expectation_sq += prob * (jz_value ** 2)\n",
    "    \n",
    "    delta_jz = (expectation_sq - expectation ** 2) ** 0.5\n",
    "    return expectation, delta_jz"
   ]
  },
  {
   "cell_type": "code",
   "execution_count": 76,
   "id": "4674146c-3bf9-464f-9751-e23cd58cf22a",
   "metadata": {},
   "outputs": [],
   "source": [
    "# Parameters\n",
    "N_values = range(1, 9)                 \n",
    "chi_t_values = np.linspace(0, 1.0, 21)    \n",
    "shots = 1000\n",
    "backend = AerSimulator()"
   ]
  },
  {
   "cell_type": "code",
   "execution_count": null,
   "id": "c5da1117-c1f2-4969-85e5-e5abfc09539d",
   "metadata": {},
   "outputs": [],
   "source": [
    "# Collect σ_min for each N \n",
    "rows = []\n",
    "\n",
    "for n_qubits in N_values:\n",
    "    sigmas_closed = []   # d = 1 \n",
    "    sigmas_d0     = []   # d = 0 (SQL)\n",
    "\n",
    "    for chi_t in chi_t_values:\n",
    "        # d=1\n",
    "        qc_closed = QuantumCircuit(n_qubits)\n",
    "        qc_closed.h(range(n_qubits))\n",
    "        apply_dipole_interaction(qc_closed, list(range(n_qubits)), chi_t)  \n",
    "        qc_closed.measure_all()\n",
    "        counts_closed = backend.run(transpile(qc_closed, backend), shots=shots).result().get_counts()\n",
    "        _, delta_jz_closed = calculate_jz_and_delta_jz(counts_closed, n_qubits=n_qubits)\n",
    "        sigmas_closed.append(float(delta_jz_closed)) \n",
    "\n",
    "        # d = 0 (SQL)\n",
    "        qc_sql = QuantumCircuit(n_qubits)\n",
    "        qc_sql.h(range(n_qubits))\n",
    "        qc_sql.measure_all()\n",
    "        counts_sql = backend.run(transpile(qc_sql, backend), shots=shots).result().get_counts()\n",
    "        _, delta_jz_sql = calculate_jz_and_delta_jz(counts_sql, n_qubits=n_qubits)\n",
    "        sigmas_d0.append(float(delta_jz_sql))       \n",
    "\n",
    "    sigma_min_closed = float(np.min(sigmas_closed))\n",
    "    sigma_min_d0     = float(np.min(sigmas_d0))\n",
    "\n",
    "    sigma_sql_line = 1.0 / np.sqrt(n_qubits)\n",
    "\n",
    "    rows.append({\n",
    "        \"N\": n_qubits,\n",
    "        \"sigma_min_d0\": sigma_min_d0,                   # blue squares\n",
    "        \"sigma_min_closed\": sigma_min_closed,           # red circles\n",
    "        \"sigma_sql_baseline\": sigma_sql_line            # dashed line\n",
    "    })"
   ]
  },
  {
   "cell_type": "code",
   "execution_count": null,
   "id": "d6676deb-c718-45ff-baec-806d410b4722",
   "metadata": {},
   "outputs": [],
   "source": [
    "df_sigma_vs_N = pd.DataFrame(rows).sort_values(\"N\").reset_index(drop=True)\n",
    "display(df_sigma_vs_N)"
   ]
  },
  {
   "cell_type": "code",
   "execution_count": null,
   "id": "57efdf2c-2c2f-4333-bc09-1236620469e2",
   "metadata": {},
   "outputs": [],
   "source": [
    "plt.figure()\n",
    "plt.plot(df_sigma_vs_N[\"N\"], df_sigma_vs_N[\"sigma_min_d0\"],\n",
    "         marker=\"s\", linestyle=\"None\", label=\"d = 0\")\n",
    "plt.plot(df_sigma_vs_N[\"N\"], df_sigma_vs_N[\"sigma_min_closed\"],\n",
    "         marker=\"o\", linestyle=\"None\", label=\"d/(2π) = 1 MHz\")\n",
    "plt.plot(df_sigma_vs_N[\"N\"], df_sigma_vs_N[\"sigma_sql_baseline\"],\n",
    "         linestyle=\"--\", label=\"SQL\")\n",
    "\n",
    "plt.xlabel(\"N\")\n",
    "plt.ylabel(r\"$\\sigma_{\\min}$\")\n",
    "plt.title(r\"$\\sigma_{\\min}$ vs $N$ — d=0, d/(2\\pi)=1\\,\\mathrm{MHz}$, and SQL\")\n",
    "plt.grid(True)\n",
    "plt.legend()\n",
    "plt.tight_layout()\n",
    "plt.show()"
   ]
  }
 ],
 "metadata": {
  "kernelspec": {
   "display_name": "Python 3 (ipykernel)",
   "language": "python",
   "name": "python3"
  },
  "language_info": {
   "codemirror_mode": {
    "name": "ipython",
    "version": 3
   },
   "file_extension": ".py",
   "mimetype": "text/x-python",
   "name": "python",
   "nbconvert_exporter": "python",
   "pygments_lexer": "ipython3",
   "version": "3.12.4"
  }
 },
 "nbformat": 4,
 "nbformat_minor": 5
}
