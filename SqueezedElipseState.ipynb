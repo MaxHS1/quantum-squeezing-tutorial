{
 "cells": [
  {
   "cell_type": "code",
   "execution_count": 2,
   "id": "c8a74333-2ea3-4624-b4fc-7e51fd207a47",
   "metadata": {},
   "outputs": [],
   "source": [
    "import numpy as np\n",
    "import matplotlib.pyplot as plt\n",
    "from qiskit import QuantumCircuit, transpile\n",
    "from qiskit.circuit.library import RZZGate\n",
    "from qiskit_aer import AerSimulator"
   ]
  },
  {
   "cell_type": "code",
   "execution_count": 3,
   "id": "af206172-43b1-4d22-a11b-0a57da16c317",
   "metadata": {},
   "outputs": [],
   "source": [
    "def apply_one_axis_twist(circuit, qubits, chi_t):\n",
    "    n = len(qubits)\n",
    "    for i in range(n):\n",
    "        for j in range(i + 1, n):\n",
    "            circuit.append(RZZGate(2 * chi_t), [qubits[i], qubits[j]])\n",
    "    return circuit"
   ]
  },
  {
   "cell_type": "code",
   "execution_count": 4,
   "id": "38facd64-f73b-4f88-8ea3-26a73274e9d5",
   "metadata": {},
   "outputs": [],
   "source": [
    "def apply_dipole_interaction(circuit, qubits, chi_t):\n",
    "    n = len(qubits)\n",
    "    for i in range(n):\n",
    "        for j in range(i + 1, n):\n",
    "            qi, qj = qubits[i], qubits[j]\n",
    "\n",
    "            # ZZ term\n",
    "            circuit.append(RZZGate(2 * chi_t), [qi, qj])\n",
    "\n",
    "            # XX term \n",
    "            theta_x = -chi_t\n",
    "            circuit.h(qi); circuit.h(qj)\n",
    "            circuit.cx(qi, qj)\n",
    "            circuit.rz(theta_x, qj)\n",
    "            circuit.cx(qi, qj)\n",
    "            circuit.h(qi); circuit.h(qj)\n",
    "\n",
    "            # YY term\n",
    "            theta_y = -chi_t\n",
    "            circuit.rx(np.pi/2, qi); circuit.rx(np.pi/2, qj)\n",
    "            circuit.cx(qi, qj)\n",
    "            circuit.rz(theta_y, qj)\n",
    "            circuit.cx(qi, qj)\n",
    "            circuit.rx(-np.pi/2, qi); circuit.rx(-np.pi/2, qj)\n",
    "            \n",
    "    return circuit"
   ]
  },
  {
   "cell_type": "code",
   "execution_count": 5,
   "id": "71ec4f28-2bb2-47cb-adec-5d48025c719f",
   "metadata": {},
   "outputs": [],
   "source": [
    "def calculate_jz_and_delta_jz(counts, n_qubits=3):\n",
    "    expectation = 0\n",
    "    expectation_sq = 0\n",
    "    total_shots = sum(counts.values())\n",
    "    \n",
    "    for bitstring, count in counts.items():\n",
    "        n_zeros = bitstring.count('0')  \n",
    "        n_ones = bitstring.count('1')   \n",
    "        jz_value = (n_zeros - n_ones) / 2\n",
    "        prob = count / total_shots\n",
    "        expectation += prob * jz_value\n",
    "        expectation_sq += prob * (jz_value ** 2)\n",
    "    \n",
    "    delta_jz = (expectation_sq - expectation ** 2) ** 0.5\n",
    "    return expectation, delta_jz"
   ]
  },
  {
   "cell_type": "code",
   "execution_count": 6,
   "id": "9297b85c-8053-4f5a-a18f-73575af8c729",
   "metadata": {},
   "outputs": [],
   "source": [
    "# Parameters\n",
    "N = 3                    \n",
    "shots = 1000\n",
    "backend = AerSimulator()\n",
    "tau_max_ns = 650.0                          \n",
    "tau_points = 70\n",
    "tau_grid_s = np.linspace(0.0, tau_max_ns*1e-9, tau_points)\n",
    "d = 1e6\n",
    "chi_oat_hz  = 1e6\n",
    "theta_points = 181\n",
    "theta_grid   = np.linspace(0, 2*np.pi, theta_points)"
   ]
  },
  {
   "cell_type": "code",
   "execution_count": 7,
   "id": "3ae0460c-9851-4808-b4b5-dd503c75de90",
   "metadata": {},
   "outputs": [],
   "source": [
    "def rotate_for_theta(qc, theta):\n",
    "    for q in range(N):\n",
    "        qc.rx(-theta, q)"
   ]
  },
  {
   "cell_type": "code",
   "execution_count": 8,
   "id": "f160ba33-e52a-4c7d-af58-5f62e90f96b4",
   "metadata": {},
   "outputs": [],
   "source": [
    "def delta_J_theta_for_H(hamiltonian: str, tau_s: float, theta: float) -> float:\n",
    "    if hamiltonian.upper() == \"DH\":\n",
    "        chi_t = 2*np.pi * d * tau_s\n",
    "        apply_func = apply_dipole_interaction\n",
    "    elif hamiltonian.upper() == \"OAT\":\n",
    "        chi_t = 2*np.pi * chi_oat_hz * tau_s\n",
    "        apply_func = apply_one_axis_twist\n",
    "    else:\n",
    "        raise ValueError(\"hamiltonian must be 'OAT' or 'DH'\")\n",
    "\n",
    "    qc = QuantumCircuit(N)\n",
    "    qc.h(range(N))                                     \n",
    "    apply_func(qc, list(range(N)), chi_t)              \n",
    "    rotate_for_theta(qc, theta)                        \n",
    "    qc.measure_all()\n",
    "\n",
    "    counts = backend.run(transpile(qc, backend), shots=shots).result().get_counts()\n",
    "    _, dJ = calculate_jz_and_delta_jz(counts, n_qubits=N)   \n",
    "    return float(dJ) "
   ]
  },
  {
   "cell_type": "code",
   "execution_count": 9,
   "id": "ac4fdd98-bec9-474e-8b3b-b3fbb127ad07",
   "metadata": {},
   "outputs": [],
   "source": [
    "def find_tau_min(hamiltonian: str):\n",
    "    best_sigma = np.inf\n",
    "    best_tau   = None\n",
    "    best_theta = None\n",
    "    for tau in tau_grid_s:\n",
    "        sigmas_tau = [delta_J_theta_for_H(hamiltonian, tau, th) for th in theta_grid]\n",
    "        s_tau = np.min(sigmas_tau)\n",
    "        if s_tau < best_sigma:\n",
    "            best_sigma = s_tau\n",
    "            best_tau   = tau\n",
    "            best_theta = theta_grid[int(np.argmin(sigmas_tau))]\n",
    "    return best_tau, best_sigma, best_theta"
   ]
  },
  {
   "cell_type": "code",
   "execution_count": null,
   "id": "cfe61ca9-e64f-4d00-9da4-903e46e29609",
   "metadata": {},
   "outputs": [],
   "source": [
    "# τ_min for OAT\n",
    "tau_min_OAT, sigma_min_OAT, theta_min_OAT = find_tau_min(\"OAT\")\n",
    "tau_min_DH,  sigma_min_DH,  theta_min_DH  = find_tau_min(\"DH\")\n",
    "\n",
    "print(f\"[OAT] τ_min = {tau_min_OAT*1e9:7.2f} ns, σ_min = {sigma_min_OAT:.5f}, at θ ≈ {np.degrees(theta_min_OAT):.1f}°\")\n",
    "print(f\"[DH ] τ_min = {tau_min_DH*1e9:7.2f} ns, σ_min = {sigma_min_DH :.5f}, at θ ≈ {np.degrees(theta_min_DH ):.1f}°\")\n",
    "\n",
    "# Ellipse curves at their τ_min\n",
    "sigma_theta_OAT = np.array([delta_J_theta_for_H(\"OAT\", tau_min_OAT, th) for th in theta_grid])\n",
    "sigma_theta_DH  = np.array([delta_J_theta_for_H(\"DH\",  tau_min_DH,  th) for th in theta_grid])"
   ]
  },
  {
   "cell_type": "code",
   "execution_count": null,
   "id": "75c4c892-ab6c-4c33-b18c-6364c0444895",
   "metadata": {},
   "outputs": [],
   "source": [
    "sigma0 = np.sqrt(N)/2.0\n",
    "sigma_theta_OAT_norm = sigma_theta_OAT / sigma0\n",
    "sigma_theta_DH_norm  = sigma_theta_DH  / sigma0"
   ]
  },
  {
   "cell_type": "code",
   "execution_count": null,
   "id": "1c7f1756-8e40-4833-9f31-857654c86262",
   "metadata": {},
   "outputs": [],
   "source": [
    "fig, axes = plt.subplots(1, 2, figsize=(10, 4.2), subplot_kw={\"projection\": \"polar\"}, sharex=True, sharey=True)\n",
    "\n",
    "# OAT\n",
    "axes[0].plot(theta_grid, sigma_theta_OAT_norm)\n",
    "axes[0].set_title(\"Uncertainty Ellipse — OAT\")\n",
    "axes[0].set_rticks([0.5, 1.0, 1.5])\n",
    "axes[0].grid(True)\n",
    "\n",
    "# DH\n",
    "axes[1].plot(theta_grid, sigma_theta_DH_norm)\n",
    "axes[1].set_title(r\"Uncertainty Ellipse — Dipole ( $d/(2\\pi)=1\\,\\mathrm{MHz}$ )\")\n",
    "axes[1].set_rticks([0.5, 1.0, 1.5])\n",
    "axes[1].grid(True)\n",
    "\n",
    "fig.suptitle(fr\"Squeezing Ellipses at $\\tau_{{\\min}}$ (N={N}); normalized to $\\sigma_0=\\sqrt{{N}}/2$\", y=1.04)\n",
    "plt.tight_layout()\n",
    "plt.show()"
   ]
  }
 ],
 "metadata": {
  "kernelspec": {
   "display_name": "Python 3 (ipykernel)",
   "language": "python",
   "name": "python3"
  },
  "language_info": {
   "codemirror_mode": {
    "name": "ipython",
    "version": 3
   },
   "file_extension": ".py",
   "mimetype": "text/x-python",
   "name": "python",
   "nbconvert_exporter": "python",
   "pygments_lexer": "ipython3",
   "version": "3.12.4"
  }
 },
 "nbformat": 4,
 "nbformat_minor": 5
}
