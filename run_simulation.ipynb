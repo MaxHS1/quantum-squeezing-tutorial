{
 "cells": [
  {
   "cell_type": "code",
   "execution_count": 2,
   "id": "2c6f9693-675e-43b9-a7d6-1c3fbbb9db3e",
   "metadata": {},
   "outputs": [
    {
     "name": "stdout",
     "output_type": "stream",
     "text": [
      "==================================================\n",
      "Starting simulation for N = 3 spins\n",
      "Job ID: local\n",
      "==================================================\n",
      "Standard Quantum Limit (SQL) for N=3: 0.5774\n",
      "Simulating spin dynamics...\n",
      "Results saved to: results_N3.txt\n",
      "Simulation complete for N = 3\n"
     ]
    }
   ],
   "source": [
    "#!/usr/bin/env python3\n",
    "\"\"\"\n",
    "run_simulation.py - HPC Test Script for Spin Squeezing Calculations\n",
    "\n",
    "This script demonstrates how to run simulations on the HPC cluster.\n",
    "It reads the N_SPINS environment variable to determine the system size,\n",
    "allowing the same script to be used for different configurations.\n",
    "\"\"\"\n",
    "\n",
    "import os\n",
    "import sys\n",
    "import numpy as np\n",
    "import time\n",
    "\n",
    "def calculate_sql_sigma(N):\n",
    "    \"\"\"Calculate the Standard Quantum Limit (SQL) for N spins.\n",
    "    \n",
    "    SQL represents the minimum uncertainty achievable with \n",
    "    uncorrelated spins: σ_SQL = 1/√N\n",
    "    \"\"\"\n",
    "    return 1.0 / np.sqrt(N)\n",
    "\n",
    "def main():\n",
    "    # Read the number of spins from environment variable\n",
    "    # This allows the SLURM script to control what we simulate\n",
    "    try:\n",
    "        N = int(os.environ.get('N_SPINS', 3))  # Default to 3 if not set\n",
    "    except ValueError:\n",
    "        print(\"Error: N_SPINS must be an integer\")\n",
    "        sys.exit(1)\n",
    "    \n",
    "    print(f\"=\"*50)\n",
    "    print(f\"Starting simulation for N = {N} spins\")\n",
    "    print(f\"Job ID: {os.environ.get('SLURM_JOB_ID', 'local')}\")\n",
    "    print(f\"=\"*50)\n",
    "    \n",
    "    # Calculate SQL for this system size\n",
    "    sql = calculate_sql_sigma(N)\n",
    "    print(f\"Standard Quantum Limit (SQL) for N={N}: {sql:.4f}\")\n",
    "    \n",
    "    # Simulate some work (replace with actual DH_spin_squeezing_sim.py call)\n",
    "    print(f\"Simulating spin dynamics...\")\n",
    "    time.sleep(2)  # Placeholder for actual calculation\n",
    "    \n",
    "    # In practice, you would run your actual simulation here:\n",
    "    # from DH_spin_squeezing_sim import SpinSqueezingSimulator\n",
    "    # simulator = SpinSqueezingSimulator(N_spins=N, ...)\n",
    "    # results = simulator.comprehensive_analysis(...)\n",
    "    \n",
    "    # Save results to a file\n",
    "    output_file = f\"results_N{N}.txt\"\n",
    "    with open(output_file, 'w') as f:\n",
    "        f.write(f\"N_spins,SQL_sigma\\n\")\n",
    "        f.write(f\"{N},{sql:.6f}\\n\")\n",
    "    \n",
    "    print(f\"Results saved to: {output_file}\")\n",
    "    print(f\"Simulation complete for N = {N}\")\n",
    "\n",
    "if __name__ == \"__main__\":\n",
    "    main()"
   ]
  },
  {
   "cell_type": "code",
   "execution_count": null,
   "id": "bc0cf980-b851-4c0d-986f-a152fb0704d6",
   "metadata": {},
   "outputs": [],
   "source": []
  }
 ],
 "metadata": {
  "kernelspec": {
   "display_name": "Python 3 (ipykernel)",
   "language": "python",
   "name": "python3"
  },
  "language_info": {
   "codemirror_mode": {
    "name": "ipython",
    "version": 3
   },
   "file_extension": ".py",
   "mimetype": "text/x-python",
   "name": "python",
   "nbconvert_exporter": "python",
   "pygments_lexer": "ipython3",
   "version": "3.12.4"
  }
 },
 "nbformat": 4,
 "nbformat_minor": 5
}
