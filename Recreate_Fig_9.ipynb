{
 "cells": [
  {
   "cell_type": "code",
   "execution_count": 2,
   "id": "347f4e62-6b8c-4112-b348-02ca1514210f",
   "metadata": {},
   "outputs": [],
   "source": [
    "import numpy as np\n",
    "import matplotlib.pyplot as plt\n",
    "from qiskit import QuantumCircuit, transpile\n",
    "from qiskit_aer import AerSimulator"
   ]
  },
  {
   "cell_type": "code",
   "execution_count": 14,
   "id": "d60309e2-98cf-4f44-8022-080ea0479e56",
   "metadata": {},
   "outputs": [],
   "source": [
    "def apply_dipole_interaction(circuit, qubits, chi_t):\n",
    "    n = len(qubits)\n",
    "    for i in range(n):\n",
    "        for j in range(i + 1, n):\n",
    "            qi, qj = qubits[i], qubits[j]\n",
    "\n",
    "            # ZZ term\n",
    "            circuit.append(RZZGate(2 * chi_t), [qi, qj])\n",
    "\n",
    "            # XX term \n",
    "            theta_x = -chi_t\n",
    "            circuit.h(qi); circuit.h(qj)\n",
    "            circuit.cx(qi, qj)\n",
    "            circuit.rz(theta_x, qj)\n",
    "            circuit.cx(qi, qj)\n",
    "            circuit.h(qi); circuit.h(qj)\n",
    "\n",
    "            # YY term\n",
    "            theta_y = -chi_t\n",
    "            circuit.rx(np.pi/2, qi); circuit.rx(np.pi/2, qj)\n",
    "            circuit.cx(qi, qj)\n",
    "            circuit.rz(theta_y, qj)\n",
    "            circuit.cx(qi, qj)\n",
    "            circuit.rx(-np.pi/2, qi); circuit.rx(-np.pi/2, qj)\n",
    "            \n",
    "    return circuit"
   ]
  },
  {
   "cell_type": "code",
   "execution_count": 12,
   "id": "1e26765a-c5ac-4c4c-a7cb-33eca7dd5f5b",
   "metadata": {},
   "outputs": [],
   "source": [
    "def calculate_jz_and_delta_jz(counts, n_qubits=3):\n",
    "    expectation = 0\n",
    "    expectation_sq = 0\n",
    "    total_shots = sum(counts.values())\n",
    "    \n",
    "    for bitstring, count in counts.items():\n",
    "        n_zeros = bitstring.count('0')  \n",
    "        n_ones = bitstring.count('1')   \n",
    "        jz_value = (n_zeros - n_ones) / 2\n",
    "        prob = count / total_shots\n",
    "        expectation += prob * jz_value\n",
    "        expectation_sq += prob * (jz_value ** 2)\n",
    "    \n",
    "    delta_jz = (expectation_sq - expectation ** 2) ** 0.5\n",
    "    return expectation, delta_jz"
   ]
  },
  {
   "cell_type": "code",
   "execution_count": 10,
   "id": "3774be4f-4f02-4e4a-87ee-8a91155671d6",
   "metadata": {},
   "outputs": [],
   "source": [
    "# Parameters\n",
    "N_values = range(2, 9)              \n",
    "tau_ns_max = 650.0                    \n",
    "tau_points = 60\n",
    "tau_grid_s = np.linspace(0.0, tau_ns_max * 1e-9, tau_points)  \n",
    "shots = 1000\n",
    "backend = AerSimulator()"
   ]
  },
  {
   "cell_type": "code",
   "execution_count": 4,
   "id": "763e573d-80e3-404d-a017-f181e1c8deaf",
   "metadata": {},
   "outputs": [],
   "source": [
    "d_closed_hz  = 1e6   # d = 1\n",
    "d_sql_hz     = 0.0   # d = 0 (SQL)\n",
    "\n",
    "# Basis-rotation functions \n",
    "def rotate_for_X_basis(qc, qubits):\n",
    "    for q in qubits:\n",
    "        qc.h(q)\n",
    "\n",
    "def rotate_for_Y_basis(qc, qubits):\n",
    "    for q in qubits:\n",
    "        qc.sdg(q); qc.h(q)"
   ]
  },
  {
   "cell_type": "code",
   "execution_count": 6,
   "id": "fa7a5870-1140-4300-b416-86e005d73a0a",
   "metadata": {},
   "outputs": [],
   "source": [
    "def delta_J_component(N, d_hz, tau_s, shots, component: str) -> float:\n",
    "    chi_t = 2 * np.pi * d_hz * tau_s\n",
    "\n",
    "    qc = QuantumCircuit(N)\n",
    "    qc.h(range(N)) \n",
    "\n",
    "    # Interaction ON unless d = 0\n",
    "    if d_hz != 0.0:\n",
    "        apply_dipole_interaction(qc, list(range(N)), chi_t)   # <- your function\n",
    "\n",
    "    # Rotate to measurement basis\n",
    "    comp = component.lower()\n",
    "    if comp == 'x':\n",
    "        rotate_for_X_basis(qc, range(N))\n",
    "    elif comp == 'y':\n",
    "        rotate_for_Y_basis(qc, range(N))\n",
    "    elif comp == 'z':\n",
    "        pass\n",
    "    else:\n",
    "        raise ValueError(\"component must be 'x','y','z'\")\n",
    "\n",
    "    qc.measure_all()\n",
    "    counts = backend.run(transpile(qc, backend), shots=shots).result().get_counts()\n",
    "    \n",
    "    _, dJ = calculate_jz_and_delta_jz(counts, n_qubits=N)  \n",
    "    return float(dJ)"
   ]
  },
  {
   "cell_type": "code",
   "execution_count": 8,
   "id": "96f2f4c0-7b4e-433b-a2e9-ca49566df3e7",
   "metadata": {},
   "outputs": [],
   "source": [
    "def sigma_min_curve_normalized(N, d_hz):\n",
    "    sigma0 = np.sqrt(N) / 2.0\n",
    "    vals = []\n",
    "    for tau in tau_grid_s:\n",
    "        dx = delta_J_component(N, d_hz, tau, shots, 'x')\n",
    "        dy = delta_J_component(N, d_hz, tau, shots, 'y')\n",
    "        dz = delta_J_component(N, d_hz, tau, shots, 'z')\n",
    "        sigma_t = min(dx, dy, dz)\n",
    "        vals.append(sigma_t / sigma0)\n",
    "    return np.array(vals)"
   ]
  },
  {
   "cell_type": "code",
   "execution_count": null,
   "id": "91da4611-3b8e-4a1d-883d-7fb19b6a269c",
   "metadata": {},
   "outputs": [],
   "source": [
    "# Compute curves for both cases\n",
    "curves_d0      = {N: sigma_min_curve_normalized(N, d_sql_hz)    for N in N_values}\n",
    "curves_closed  = {N: sigma_min_curve_normalized(N, d_closed_hz) for N in N_values}"
   ]
  },
  {
   "cell_type": "code",
   "execution_count": null,
   "id": "54cc54c2-33b4-4196-9ad9-bd9c52909d3e",
   "metadata": {},
   "outputs": [],
   "source": [
    "tau_ns = tau_grid_s * 1e9\n",
    "fig, axes = plt.subplots(1, 2, figsize=(11, 4.6), sharey=True)\n",
    "\n",
    "# d = 0\n",
    "ax = axes[0]\n",
    "for N in N_values:\n",
    "    ax.plot(tau_ns, curves_d0[N], label=f\"N={N}\")\n",
    "ax.axhline(1.0, ls=\"--\", color=\"k\", alpha=0.6, label=\"SQL (σ/σ₀=1)\")\n",
    "ax.set_title(\"d = 0\")\n",
    "ax.set_xlabel(\"Evolution time τ (ns)\")\n",
    "ax.set_ylabel(r\"Normalized uncertainty  $\\sigma_{\\min}/\\sigma_0$\")\n",
    "ax.grid(True, ls=\"--\", alpha=0.4)\n",
    "\n",
    "# d = 1\n",
    "ax = axes[1]\n",
    "for N in N_values:\n",
    "    ax.plot(tau_ns, curves_closed[N], label=f\"N={N}\")\n",
    "ax.axhline(1.0, ls=\"--\", color=\"k\", alpha=0.6, label=\"SQL (σ/σ₀=1)\")\n",
    "ax.set_title(r\"$d/(2\\pi) = 1\\ \\mathrm{MHz}$\")\n",
    "ax.set_xlabel(\"Evolution time τ (ns)\")\n",
    "ax.grid(True, ls=\"--\", alpha=0.4)\n",
    "\n",
    "axes[1].legend(bbox_to_anchor=(1.02, 1.0), loc=\"upper left\", borderaxespad=0.)\n",
    "plt.tight_layout()\n",
    "plt.show()"
   ]
  }
 ],
 "metadata": {
  "kernelspec": {
   "display_name": "Python 3 (ipykernel)",
   "language": "python",
   "name": "python3"
  },
  "language_info": {
   "codemirror_mode": {
    "name": "ipython",
    "version": 3
   },
   "file_extension": ".py",
   "mimetype": "text/x-python",
   "name": "python",
   "nbconvert_exporter": "python",
   "pygments_lexer": "ipython3",
   "version": "3.12.4"
  }
 },
 "nbformat": 4,
 "nbformat_minor": 5
}
